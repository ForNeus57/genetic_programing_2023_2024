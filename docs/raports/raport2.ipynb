version https://git-lfs.github.com/spec/v1
oid sha256:48a71aa5597d7b4061df5b1da4d61c66945a93bf1da38029295513cbd5252f07
size 131980815
